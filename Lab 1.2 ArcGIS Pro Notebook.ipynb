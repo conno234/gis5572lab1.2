{
 "cells": [
  {
   "cell_type": "code",
   "execution_count": 23,
   "metadata": {},
   "outputs": [],
   "source": [
    "#Some of this code was based on code acquired through ChatGPT prompts\n",
    "#To begin, we will import our packages\n",
    "import arcpy\n",
    "import os\n",
    "import psycopg2\n",
    "from psycopg2 import sql"
   ]
  },
  {
   "cell_type": "code",
   "execution_count": 24,
   "metadata": {},
   "outputs": [
    {
     "name": "stdout",
     "output_type": "stream",
     "text": [
      "MULTIPOLYGON (((-74 40.0001220703125, -73 41.0001220703125, -74 41.0001220703125, -74 40.0001220703125)))\n"
     ]
    }
   ],
   "source": [
    "# First I establish the coordinates of the vertices (lon, lat)\n",
    "vertex1 = (-74.0, 40.0)  # Lower left corner\n",
    "vertex2 = (-74.0, 41.0)  # Upper left corner\n",
    "vertex3 = (-73.0, 41.0)  # Upper right corner\n",
    "\n",
    "# Then I can create a new polygon geometry object\n",
    "polygon = arcpy.Polygon(arcpy.Array([arcpy.Point(*vertex) for vertex in [vertex1, vertex2, vertex3]]))\n",
    "\n",
    "# I will convert the polygon into well-known text and print it\n",
    "wkt_polygon = polygon.WKT\n",
    "print(wkt_polygon)"
   ]
  },
  {
   "cell_type": "code",
   "execution_count": 26,
   "metadata": {},
   "outputs": [],
   "source": [
    "# With the polygon ready, I then need to establish a connection to the PostgreSQL database using psycopg2\n",
    "conn = psycopg2.connect(database=\"DATABASE\",\n",
    "                        user=\"USER\",\n",
    "                        password=\"PASSWORD\",\n",
    "                        host=\"HOST\",\n",
    "                        port=\"PORT\")\n",
    "\n",
    "# I create a cursor object to execute SQL queries within the connection\n",
    "cur = conn.cursor()\n",
    "\n",
    "# I will then define an SQL query to insert a geometry into the labtable\n",
    "insert_query = \"INSERT INTO labtable (geom) VALUES (%s);\"\n",
    "\n",
    "# I set the table name\n",
    "table_name = \"labtable\"\n",
    "\n",
    "# I can create a table, specifying the table name, id column, and geometry column\n",
    "create_table_query = sql.SQL(\"\"\"\n",
    "    CREATE TABLE IF NOT EXISTS {} (\n",
    "        id SERIAL PRIMARY KEY,\n",
    "        geom text\n",
    "    )\n",
    "\"\"\").format(sql.Identifier(table_name))\n",
    "\n",
    "# I can then execute the create table query\n",
    "cur.execute(create_table_query)\n",
    "\n",
    "# Then I can execute the insert query, inserting a WKT polygon into the labtable\n",
    "cur.execute(insert_query, (wkt_polygon,))\n",
    "\n",
    "# I commit the transaction to save the changes to the database\n",
    "conn.commit()\n",
    "\n",
    "# I can close the cursor to release database resources and close the connection\n",
    "cur.close()\n",
    "conn.close()"
   ]
  },
  {
   "cell_type": "code",
   "execution_count": null,
   "metadata": {},
   "outputs": [],
   "source": []
  }
 ],
 "metadata": {
  "kernelspec": {
   "display_name": "ArcGISPro",
   "language": "Python",
   "name": "python3"
  },
  "language_info": {
   "file_extension": ".py",
   "name": "python",
   "version": "3"
  }
 },
 "nbformat": 4,
 "nbformat_minor": 2
}
